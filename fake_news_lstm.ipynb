{
  "cells": [
    {
      "cell_type": "markdown",
      "metadata": {
        "id": "view-in-github",
        "colab_type": "text"
      },
      "source": [
        "<a href=\"https://colab.research.google.com/github/Sbbarse787/Deep-Learning-TAE-02/blob/main/fake_news_lstm.ipynb\" target=\"_parent\"><img src=\"https://colab.research.google.com/assets/colab-badge.svg\" alt=\"Open In Colab\"/></a>"
      ]
    },
    {
      "cell_type": "code",
      "execution_count": null,
      "id": "c40cd0fb",
      "metadata": {
        "_cell_guid": "b1076dfc-b9ad-4769-8c92-a6c4dae69d19",
        "_uuid": "8f2839f25d086af736a60e9eeb907d3b93b6e0e5",
        "execution": {
          "iopub.execute_input": "2021-12-12T14:15:46.188990Z",
          "iopub.status.busy": "2021-12-12T14:15:46.188267Z",
          "iopub.status.idle": "2021-12-12T14:15:50.985953Z",
          "shell.execute_reply": "2021-12-12T14:15:50.986516Z",
          "shell.execute_reply.started": "2021-12-12T14:01:59.377776Z"
        },
        "papermill": {
          "duration": 4.83955,
          "end_time": "2021-12-12T14:15:50.986836",
          "exception": false,
          "start_time": "2021-12-12T14:15:46.147286",
          "status": "completed"
        },
        "tags": [],
        "id": "c40cd0fb",
        "outputId": "76acf4f8-3714-4fab-da42-ebfc9720413e"
      },
      "outputs": [
        {
          "name": "stdout",
          "output_type": "stream",
          "text": [
            "/kaggle/input/fake-news/submit.csv\n",
            "/kaggle/input/fake-news/train.csv\n",
            "/kaggle/input/fake-news/test.csv\n"
          ]
        }
      ],
      "source": [
        "# This Python 3 environment comes with many helpful analytics libraries installed\n",
        "# It is defined by the kaggle/python Docker image: https://github.com/kaggle/docker-python\n",
        "# For example, here's several helpful packages to load\n",
        "\n",
        "import numpy as np # linear algebra\n",
        "import pandas as pd # data processing, CSV file I/O (e.g. pd.read_csv)\n",
        "import tensorflow as tf\n",
        "# Input data files are available in the read-only \"../input/\" directory\n",
        "# For example, running this (by clicking run or pressing Shift+Enter) will list all files under the input directory\n",
        "\n",
        "import os\n",
        "for dirname, _, filenames in os.walk('/kaggle/input'):\n",
        "    for filename in filenames:\n",
        "        print(os.path.join(dirname, filename))\n"
      ]
    },
    {
      "cell_type": "code",
      "execution_count": null,
      "id": "5c219f25",
      "metadata": {
        "execution": {
          "iopub.execute_input": "2021-12-12T14:15:51.050962Z",
          "iopub.status.busy": "2021-12-12T14:15:51.049858Z",
          "iopub.status.idle": "2021-12-12T14:15:53.593493Z",
          "shell.execute_reply": "2021-12-12T14:15:53.594039Z",
          "shell.execute_reply.started": "2021-12-12T14:02:33.727325Z"
        },
        "papermill": {
          "duration": 2.577071,
          "end_time": "2021-12-12T14:15:53.594227",
          "exception": false,
          "start_time": "2021-12-12T14:15:51.017156",
          "status": "completed"
        },
        "tags": [],
        "id": "5c219f25",
        "outputId": "edb7120f-da3a-45b3-9937-49919aa03657"
      },
      "outputs": [
        {
          "data": {
            "text/html": [
              "<div>\n",
              "<style scoped>\n",
              "    .dataframe tbody tr th:only-of-type {\n",
              "        vertical-align: middle;\n",
              "    }\n",
              "\n",
              "    .dataframe tbody tr th {\n",
              "        vertical-align: top;\n",
              "    }\n",
              "\n",
              "    .dataframe thead th {\n",
              "        text-align: right;\n",
              "    }\n",
              "</style>\n",
              "<table border=\"1\" class=\"dataframe\">\n",
              "  <thead>\n",
              "    <tr style=\"text-align: right;\">\n",
              "      <th></th>\n",
              "      <th>id</th>\n",
              "      <th>title</th>\n",
              "      <th>author</th>\n",
              "      <th>text</th>\n",
              "      <th>label</th>\n",
              "    </tr>\n",
              "  </thead>\n",
              "  <tbody>\n",
              "    <tr>\n",
              "      <th>0</th>\n",
              "      <td>0</td>\n",
              "      <td>House Dem Aide: We Didn’t Even See Comey’s Let...</td>\n",
              "      <td>Darrell Lucus</td>\n",
              "      <td>House Dem Aide: We Didn’t Even See Comey’s Let...</td>\n",
              "      <td>1</td>\n",
              "    </tr>\n",
              "    <tr>\n",
              "      <th>1</th>\n",
              "      <td>1</td>\n",
              "      <td>FLYNN: Hillary Clinton, Big Woman on Campus - ...</td>\n",
              "      <td>Daniel J. Flynn</td>\n",
              "      <td>Ever get the feeling your life circles the rou...</td>\n",
              "      <td>0</td>\n",
              "    </tr>\n",
              "    <tr>\n",
              "      <th>2</th>\n",
              "      <td>2</td>\n",
              "      <td>Why the Truth Might Get You Fired</td>\n",
              "      <td>Consortiumnews.com</td>\n",
              "      <td>Why the Truth Might Get You Fired October 29, ...</td>\n",
              "      <td>1</td>\n",
              "    </tr>\n",
              "    <tr>\n",
              "      <th>3</th>\n",
              "      <td>3</td>\n",
              "      <td>15 Civilians Killed In Single US Airstrike Hav...</td>\n",
              "      <td>Jessica Purkiss</td>\n",
              "      <td>Videos 15 Civilians Killed In Single US Airstr...</td>\n",
              "      <td>1</td>\n",
              "    </tr>\n",
              "    <tr>\n",
              "      <th>4</th>\n",
              "      <td>4</td>\n",
              "      <td>Iranian woman jailed for fictional unpublished...</td>\n",
              "      <td>Howard Portnoy</td>\n",
              "      <td>Print \\nAn Iranian woman has been sentenced to...</td>\n",
              "      <td>1</td>\n",
              "    </tr>\n",
              "  </tbody>\n",
              "</table>\n",
              "</div>"
            ],
            "text/plain": [
              "   id                                              title              author  \\\n",
              "0   0  House Dem Aide: We Didn’t Even See Comey’s Let...       Darrell Lucus   \n",
              "1   1  FLYNN: Hillary Clinton, Big Woman on Campus - ...     Daniel J. Flynn   \n",
              "2   2                  Why the Truth Might Get You Fired  Consortiumnews.com   \n",
              "3   3  15 Civilians Killed In Single US Airstrike Hav...     Jessica Purkiss   \n",
              "4   4  Iranian woman jailed for fictional unpublished...      Howard Portnoy   \n",
              "\n",
              "                                                text  label  \n",
              "0  House Dem Aide: We Didn’t Even See Comey’s Let...      1  \n",
              "1  Ever get the feeling your life circles the rou...      0  \n",
              "2  Why the Truth Might Get You Fired October 29, ...      1  \n",
              "3  Videos 15 Civilians Killed In Single US Airstr...      1  \n",
              "4  Print \\nAn Iranian woman has been sentenced to...      1  "
            ]
          },
          "execution_count": 2,
          "metadata": {},
          "output_type": "execute_result"
        }
      ],
      "source": [
        "train_data=pd.read_csv('/kaggle/input/fake-news/train.csv')\n",
        "train_data.head()"
      ]
    },
    {
      "cell_type": "code",
      "execution_count": null,
      "id": "5f70b8fc",
      "metadata": {
        "execution": {
          "iopub.execute_input": "2021-12-12T14:15:53.666819Z",
          "iopub.status.busy": "2021-12-12T14:15:53.665894Z",
          "iopub.status.idle": "2021-12-12T14:15:53.669428Z",
          "shell.execute_reply": "2021-12-12T14:15:53.670003Z",
          "shell.execute_reply.started": "2021-12-12T14:02:51.497931Z"
        },
        "papermill": {
          "duration": 0.046849,
          "end_time": "2021-12-12T14:15:53.670188",
          "exception": false,
          "start_time": "2021-12-12T14:15:53.623339",
          "status": "completed"
        },
        "tags": [],
        "id": "5f70b8fc",
        "outputId": "1d545f2a-1742-482d-ce1c-5f0d661f68ef"
      },
      "outputs": [
        {
          "data": {
            "text/plain": [
              "1    10413\n",
              "0    10387\n",
              "Name: label, dtype: int64"
            ]
          },
          "execution_count": 3,
          "metadata": {},
          "output_type": "execute_result"
        }
      ],
      "source": [
        "train_data['label'].value_counts()"
      ]
    },
    {
      "cell_type": "code",
      "execution_count": null,
      "id": "b4bad233",
      "metadata": {
        "execution": {
          "iopub.execute_input": "2021-12-12T14:15:53.733538Z",
          "iopub.status.busy": "2021-12-12T14:15:53.732521Z",
          "iopub.status.idle": "2021-12-12T14:15:53.738013Z",
          "shell.execute_reply": "2021-12-12T14:15:53.738586Z",
          "shell.execute_reply.started": "2021-12-12T14:03:03.900026Z"
        },
        "papermill": {
          "duration": 0.038738,
          "end_time": "2021-12-12T14:15:53.738766",
          "exception": false,
          "start_time": "2021-12-12T14:15:53.700028",
          "status": "completed"
        },
        "tags": [],
        "id": "b4bad233",
        "outputId": "6ca81fb4-0867-4c6e-eee2-e9163594bd35"
      },
      "outputs": [
        {
          "data": {
            "text/plain": [
              "(20800, 5)"
            ]
          },
          "execution_count": 4,
          "metadata": {},
          "output_type": "execute_result"
        }
      ],
      "source": [
        "train_data.shape"
      ]
    },
    {
      "cell_type": "code",
      "execution_count": null,
      "id": "93084cac",
      "metadata": {
        "execution": {
          "iopub.execute_input": "2021-12-12T14:15:53.802010Z",
          "iopub.status.busy": "2021-12-12T14:15:53.800967Z",
          "iopub.status.idle": "2021-12-12T14:15:53.821149Z",
          "shell.execute_reply": "2021-12-12T14:15:53.821838Z",
          "shell.execute_reply.started": "2021-12-12T14:03:17.329626Z"
        },
        "papermill": {
          "duration": 0.053657,
          "end_time": "2021-12-12T14:15:53.822029",
          "exception": false,
          "start_time": "2021-12-12T14:15:53.768372",
          "status": "completed"
        },
        "tags": [],
        "id": "93084cac",
        "outputId": "ce94d7b4-6d95-4670-83bb-22dbeb808ff5"
      },
      "outputs": [
        {
          "name": "stdout",
          "output_type": "stream",
          "text": [
            "(18285, 5)\n"
          ]
        }
      ],
      "source": [
        "train_data=train_data.dropna()\n",
        "print(train_data.shape)"
      ]
    },
    {
      "cell_type": "code",
      "execution_count": null,
      "id": "13a2abbd",
      "metadata": {
        "execution": {
          "iopub.execute_input": "2021-12-12T14:15:53.885634Z",
          "iopub.status.busy": "2021-12-12T14:15:53.884996Z",
          "iopub.status.idle": "2021-12-12T14:15:53.900954Z",
          "shell.execute_reply": "2021-12-12T14:15:53.900361Z",
          "shell.execute_reply.started": "2021-12-12T14:03:30.010408Z"
        },
        "papermill": {
          "duration": 0.048719,
          "end_time": "2021-12-12T14:15:53.901108",
          "exception": false,
          "start_time": "2021-12-12T14:15:53.852389",
          "status": "completed"
        },
        "tags": [],
        "id": "13a2abbd",
        "outputId": "a9e2630e-3b07-47a5-9b67-3946a093017e"
      },
      "outputs": [
        {
          "data": {
            "text/html": [
              "<div>\n",
              "<style scoped>\n",
              "    .dataframe tbody tr th:only-of-type {\n",
              "        vertical-align: middle;\n",
              "    }\n",
              "\n",
              "    .dataframe tbody tr th {\n",
              "        vertical-align: top;\n",
              "    }\n",
              "\n",
              "    .dataframe thead th {\n",
              "        text-align: right;\n",
              "    }\n",
              "</style>\n",
              "<table border=\"1\" class=\"dataframe\">\n",
              "  <thead>\n",
              "    <tr style=\"text-align: right;\">\n",
              "      <th></th>\n",
              "      <th>id</th>\n",
              "      <th>title</th>\n",
              "      <th>author</th>\n",
              "      <th>text</th>\n",
              "    </tr>\n",
              "  </thead>\n",
              "  <tbody>\n",
              "    <tr>\n",
              "      <th>0</th>\n",
              "      <td>0</td>\n",
              "      <td>House Dem Aide: We Didn’t Even See Comey’s Let...</td>\n",
              "      <td>Darrell Lucus</td>\n",
              "      <td>House Dem Aide: We Didn’t Even See Comey’s Let...</td>\n",
              "    </tr>\n",
              "    <tr>\n",
              "      <th>1</th>\n",
              "      <td>1</td>\n",
              "      <td>FLYNN: Hillary Clinton, Big Woman on Campus - ...</td>\n",
              "      <td>Daniel J. Flynn</td>\n",
              "      <td>Ever get the feeling your life circles the rou...</td>\n",
              "    </tr>\n",
              "    <tr>\n",
              "      <th>2</th>\n",
              "      <td>2</td>\n",
              "      <td>Why the Truth Might Get You Fired</td>\n",
              "      <td>Consortiumnews.com</td>\n",
              "      <td>Why the Truth Might Get You Fired October 29, ...</td>\n",
              "    </tr>\n",
              "    <tr>\n",
              "      <th>3</th>\n",
              "      <td>3</td>\n",
              "      <td>15 Civilians Killed In Single US Airstrike Hav...</td>\n",
              "      <td>Jessica Purkiss</td>\n",
              "      <td>Videos 15 Civilians Killed In Single US Airstr...</td>\n",
              "    </tr>\n",
              "    <tr>\n",
              "      <th>4</th>\n",
              "      <td>4</td>\n",
              "      <td>Iranian woman jailed for fictional unpublished...</td>\n",
              "      <td>Howard Portnoy</td>\n",
              "      <td>Print \\nAn Iranian woman has been sentenced to...</td>\n",
              "    </tr>\n",
              "  </tbody>\n",
              "</table>\n",
              "</div>"
            ],
            "text/plain": [
              "   id                                              title              author  \\\n",
              "0   0  House Dem Aide: We Didn’t Even See Comey’s Let...       Darrell Lucus   \n",
              "1   1  FLYNN: Hillary Clinton, Big Woman on Campus - ...     Daniel J. Flynn   \n",
              "2   2                  Why the Truth Might Get You Fired  Consortiumnews.com   \n",
              "3   3  15 Civilians Killed In Single US Airstrike Hav...     Jessica Purkiss   \n",
              "4   4  Iranian woman jailed for fictional unpublished...      Howard Portnoy   \n",
              "\n",
              "                                                text  \n",
              "0  House Dem Aide: We Didn’t Even See Comey’s Let...  \n",
              "1  Ever get the feeling your life circles the rou...  \n",
              "2  Why the Truth Might Get You Fired October 29, ...  \n",
              "3  Videos 15 Civilians Killed In Single US Airstr...  \n",
              "4  Print \\nAn Iranian woman has been sentenced to...  "
            ]
          },
          "execution_count": 6,
          "metadata": {},
          "output_type": "execute_result"
        }
      ],
      "source": [
        "X=train_data.drop('label',axis=1)\n",
        "X.head()"
      ]
    },
    {
      "cell_type": "code",
      "execution_count": null,
      "id": "3a80bf28",
      "metadata": {
        "execution": {
          "iopub.execute_input": "2021-12-12T14:15:53.968637Z",
          "iopub.status.busy": "2021-12-12T14:15:53.967606Z",
          "iopub.status.idle": "2021-12-12T14:15:53.971859Z",
          "shell.execute_reply": "2021-12-12T14:15:53.972504Z",
          "shell.execute_reply.started": "2021-12-12T14:03:42.800571Z"
        },
        "papermill": {
          "duration": 0.040358,
          "end_time": "2021-12-12T14:15:53.972665",
          "exception": false,
          "start_time": "2021-12-12T14:15:53.932307",
          "status": "completed"
        },
        "tags": [],
        "id": "3a80bf28"
      },
      "outputs": [],
      "source": [
        "y=train_data['label']"
      ]
    },
    {
      "cell_type": "code",
      "execution_count": null,
      "id": "e5c5d1ef",
      "metadata": {
        "execution": {
          "iopub.execute_input": "2021-12-12T14:15:54.038786Z",
          "iopub.status.busy": "2021-12-12T14:15:54.037713Z",
          "iopub.status.idle": "2021-12-12T14:15:54.622788Z",
          "shell.execute_reply": "2021-12-12T14:15:54.623727Z",
          "shell.execute_reply.started": "2021-12-12T14:03:57.525061Z"
        },
        "papermill": {
          "duration": 0.620591,
          "end_time": "2021-12-12T14:15:54.623944",
          "exception": false,
          "start_time": "2021-12-12T14:15:54.003353",
          "status": "completed"
        },
        "tags": [],
        "id": "e5c5d1ef",
        "outputId": "a16687a3-7485-481d-e14f-210922fbba3e"
      },
      "outputs": [
        {
          "data": {
            "text/html": [
              "<div>\n",
              "<style scoped>\n",
              "    .dataframe tbody tr th:only-of-type {\n",
              "        vertical-align: middle;\n",
              "    }\n",
              "\n",
              "    .dataframe tbody tr th {\n",
              "        vertical-align: top;\n",
              "    }\n",
              "\n",
              "    .dataframe thead th {\n",
              "        text-align: right;\n",
              "    }\n",
              "</style>\n",
              "<table border=\"1\" class=\"dataframe\">\n",
              "  <thead>\n",
              "    <tr style=\"text-align: right;\">\n",
              "      <th></th>\n",
              "      <th>id</th>\n",
              "      <th>title</th>\n",
              "      <th>author</th>\n",
              "      <th>text</th>\n",
              "    </tr>\n",
              "  </thead>\n",
              "  <tbody>\n",
              "    <tr>\n",
              "      <th>0</th>\n",
              "      <td>20800</td>\n",
              "      <td>Specter of Trump Loosens Tongues, if Not Purse...</td>\n",
              "      <td>David Streitfeld</td>\n",
              "      <td>PALO ALTO, Calif.  —   After years of scorning...</td>\n",
              "    </tr>\n",
              "    <tr>\n",
              "      <th>1</th>\n",
              "      <td>20801</td>\n",
              "      <td>Russian warships ready to strike terrorists ne...</td>\n",
              "      <td>NaN</td>\n",
              "      <td>Russian warships ready to strike terrorists ne...</td>\n",
              "    </tr>\n",
              "    <tr>\n",
              "      <th>2</th>\n",
              "      <td>20802</td>\n",
              "      <td>#NoDAPL: Native American Leaders Vow to Stay A...</td>\n",
              "      <td>Common Dreams</td>\n",
              "      <td>Videos #NoDAPL: Native American Leaders Vow to...</td>\n",
              "    </tr>\n",
              "    <tr>\n",
              "      <th>3</th>\n",
              "      <td>20803</td>\n",
              "      <td>Tim Tebow Will Attempt Another Comeback, This ...</td>\n",
              "      <td>Daniel Victor</td>\n",
              "      <td>If at first you don’t succeed, try a different...</td>\n",
              "    </tr>\n",
              "    <tr>\n",
              "      <th>4</th>\n",
              "      <td>20804</td>\n",
              "      <td>Keiser Report: Meme Wars (E995)</td>\n",
              "      <td>Truth Broadcast Network</td>\n",
              "      <td>42 mins ago 1 Views 0 Comments 0 Likes 'For th...</td>\n",
              "    </tr>\n",
              "  </tbody>\n",
              "</table>\n",
              "</div>"
            ],
            "text/plain": [
              "      id                                              title  \\\n",
              "0  20800  Specter of Trump Loosens Tongues, if Not Purse...   \n",
              "1  20801  Russian warships ready to strike terrorists ne...   \n",
              "2  20802  #NoDAPL: Native American Leaders Vow to Stay A...   \n",
              "3  20803  Tim Tebow Will Attempt Another Comeback, This ...   \n",
              "4  20804                    Keiser Report: Meme Wars (E995)   \n",
              "\n",
              "                    author                                               text  \n",
              "0         David Streitfeld  PALO ALTO, Calif.  —   After years of scorning...  \n",
              "1                      NaN  Russian warships ready to strike terrorists ne...  \n",
              "2            Common Dreams  Videos #NoDAPL: Native American Leaders Vow to...  \n",
              "3            Daniel Victor  If at first you don’t succeed, try a different...  \n",
              "4  Truth Broadcast Network  42 mins ago 1 Views 0 Comments 0 Likes 'For th...  "
            ]
          },
          "execution_count": 8,
          "metadata": {},
          "output_type": "execute_result"
        }
      ],
      "source": [
        "test_data=pd.read_csv('/kaggle/input/fake-news/test.csv')\n",
        "test_data.head()"
      ]
    },
    {
      "cell_type": "code",
      "execution_count": null,
      "id": "1520fe44",
      "metadata": {
        "execution": {
          "iopub.execute_input": "2021-12-12T14:15:54.690744Z",
          "iopub.status.busy": "2021-12-12T14:15:54.689667Z",
          "iopub.status.idle": "2021-12-12T14:15:55.866615Z",
          "shell.execute_reply": "2021-12-12T14:15:55.866019Z",
          "shell.execute_reply.started": "2021-12-12T14:04:16.392690Z"
        },
        "papermill": {
          "duration": 1.211492,
          "end_time": "2021-12-12T14:15:55.866793",
          "exception": false,
          "start_time": "2021-12-12T14:15:54.655301",
          "status": "completed"
        },
        "tags": [],
        "id": "1520fe44"
      },
      "outputs": [],
      "source": [
        "from tensorflow.keras.layers import Embedding,Flatten,Dense,LSTM\n",
        "from tensorflow.keras.preprocessing.sequence import pad_sequences\n",
        "from tensorflow.keras.models import Sequential\n",
        "from tensorflow.keras.preprocessing.text import one_hot"
      ]
    },
    {
      "cell_type": "code",
      "execution_count": null,
      "id": "02e349c9",
      "metadata": {
        "execution": {
          "iopub.execute_input": "2021-12-12T14:15:55.936907Z",
          "iopub.status.busy": "2021-12-12T14:15:55.935972Z",
          "iopub.status.idle": "2021-12-12T14:15:55.939044Z",
          "shell.execute_reply": "2021-12-12T14:15:55.938407Z",
          "shell.execute_reply.started": "2021-12-12T14:04:29.125014Z"
        },
        "papermill": {
          "duration": 0.039624,
          "end_time": "2021-12-12T14:15:55.939202",
          "exception": false,
          "start_time": "2021-12-12T14:15:55.899578",
          "status": "completed"
        },
        "tags": [],
        "id": "02e349c9"
      },
      "outputs": [],
      "source": [
        "vocab_size=5000"
      ]
    },
    {
      "cell_type": "code",
      "execution_count": null,
      "id": "fb87062b",
      "metadata": {
        "execution": {
          "iopub.execute_input": "2021-12-12T14:15:56.007673Z",
          "iopub.status.busy": "2021-12-12T14:15:56.006965Z",
          "iopub.status.idle": "2021-12-12T14:15:57.339752Z",
          "shell.execute_reply": "2021-12-12T14:15:57.339107Z",
          "shell.execute_reply.started": "2021-12-12T14:04:44.264361Z"
        },
        "papermill": {
          "duration": 1.368836,
          "end_time": "2021-12-12T14:15:57.339925",
          "exception": false,
          "start_time": "2021-12-12T14:15:55.971089",
          "status": "completed"
        },
        "tags": [],
        "id": "fb87062b"
      },
      "outputs": [],
      "source": [
        "import regex as re\n",
        "import nltk\n",
        "from nltk.corpus import stopwords\n",
        "from nltk.stem.porter import PorterStemmer"
      ]
    },
    {
      "cell_type": "code",
      "execution_count": null,
      "id": "aabb7933",
      "metadata": {
        "execution": {
          "iopub.execute_input": "2021-12-12T14:15:57.412019Z",
          "iopub.status.busy": "2021-12-12T14:15:57.411301Z",
          "iopub.status.idle": "2021-12-12T14:15:57.421441Z",
          "shell.execute_reply": "2021-12-12T14:15:57.422127Z",
          "shell.execute_reply.started": "2021-12-12T14:05:03.449990Z"
        },
        "papermill": {
          "duration": 0.050278,
          "end_time": "2021-12-12T14:15:57.422299",
          "exception": false,
          "start_time": "2021-12-12T14:15:57.372021",
          "status": "completed"
        },
        "tags": [],
        "id": "aabb7933",
        "outputId": "bac18583-5bcb-4a29-9da1-e447c00108d2"
      },
      "outputs": [
        {
          "data": {
            "text/html": [
              "<div>\n",
              "<style scoped>\n",
              "    .dataframe tbody tr th:only-of-type {\n",
              "        vertical-align: middle;\n",
              "    }\n",
              "\n",
              "    .dataframe tbody tr th {\n",
              "        vertical-align: top;\n",
              "    }\n",
              "\n",
              "    .dataframe thead th {\n",
              "        text-align: right;\n",
              "    }\n",
              "</style>\n",
              "<table border=\"1\" class=\"dataframe\">\n",
              "  <thead>\n",
              "    <tr style=\"text-align: right;\">\n",
              "      <th></th>\n",
              "      <th>index</th>\n",
              "      <th>id</th>\n",
              "      <th>title</th>\n",
              "      <th>author</th>\n",
              "      <th>text</th>\n",
              "    </tr>\n",
              "  </thead>\n",
              "  <tbody>\n",
              "    <tr>\n",
              "      <th>0</th>\n",
              "      <td>0</td>\n",
              "      <td>0</td>\n",
              "      <td>House Dem Aide: We Didn’t Even See Comey’s Let...</td>\n",
              "      <td>Darrell Lucus</td>\n",
              "      <td>House Dem Aide: We Didn’t Even See Comey’s Let...</td>\n",
              "    </tr>\n",
              "    <tr>\n",
              "      <th>1</th>\n",
              "      <td>1</td>\n",
              "      <td>1</td>\n",
              "      <td>FLYNN: Hillary Clinton, Big Woman on Campus - ...</td>\n",
              "      <td>Daniel J. Flynn</td>\n",
              "      <td>Ever get the feeling your life circles the rou...</td>\n",
              "    </tr>\n",
              "    <tr>\n",
              "      <th>2</th>\n",
              "      <td>2</td>\n",
              "      <td>2</td>\n",
              "      <td>Why the Truth Might Get You Fired</td>\n",
              "      <td>Consortiumnews.com</td>\n",
              "      <td>Why the Truth Might Get You Fired October 29, ...</td>\n",
              "    </tr>\n",
              "    <tr>\n",
              "      <th>3</th>\n",
              "      <td>3</td>\n",
              "      <td>3</td>\n",
              "      <td>15 Civilians Killed In Single US Airstrike Hav...</td>\n",
              "      <td>Jessica Purkiss</td>\n",
              "      <td>Videos 15 Civilians Killed In Single US Airstr...</td>\n",
              "    </tr>\n",
              "    <tr>\n",
              "      <th>4</th>\n",
              "      <td>4</td>\n",
              "      <td>4</td>\n",
              "      <td>Iranian woman jailed for fictional unpublished...</td>\n",
              "      <td>Howard Portnoy</td>\n",
              "      <td>Print \\nAn Iranian woman has been sentenced to...</td>\n",
              "    </tr>\n",
              "  </tbody>\n",
              "</table>\n",
              "</div>"
            ],
            "text/plain": [
              "   index  id                                              title  \\\n",
              "0      0   0  House Dem Aide: We Didn’t Even See Comey’s Let...   \n",
              "1      1   1  FLYNN: Hillary Clinton, Big Woman on Campus - ...   \n",
              "2      2   2                  Why the Truth Might Get You Fired   \n",
              "3      3   3  15 Civilians Killed In Single US Airstrike Hav...   \n",
              "4      4   4  Iranian woman jailed for fictional unpublished...   \n",
              "\n",
              "               author                                               text  \n",
              "0       Darrell Lucus  House Dem Aide: We Didn’t Even See Comey’s Let...  \n",
              "1     Daniel J. Flynn  Ever get the feeling your life circles the rou...  \n",
              "2  Consortiumnews.com  Why the Truth Might Get You Fired October 29, ...  \n",
              "3     Jessica Purkiss  Videos 15 Civilians Killed In Single US Airstr...  \n",
              "4      Howard Portnoy  Print \\nAn Iranian woman has been sentenced to...  "
            ]
          },
          "execution_count": 12,
          "metadata": {},
          "output_type": "execute_result"
        }
      ],
      "source": [
        "messages=X.copy()\n",
        "messages.reset_index(inplace=True)\n",
        "messages.head()"
      ]
    },
    {
      "cell_type": "code",
      "execution_count": null,
      "id": "885925b3",
      "metadata": {
        "execution": {
          "iopub.execute_input": "2021-12-12T14:15:57.490727Z",
          "iopub.status.busy": "2021-12-12T14:15:57.490017Z",
          "iopub.status.idle": "2021-12-12T14:16:40.745134Z",
          "shell.execute_reply": "2021-12-12T14:16:40.744298Z",
          "shell.execute_reply.started": "2021-12-12T14:05:25.808927Z"
        },
        "papermill": {
          "duration": 43.290389,
          "end_time": "2021-12-12T14:16:40.745305",
          "exception": false,
          "start_time": "2021-12-12T14:15:57.454916",
          "status": "completed"
        },
        "tags": [],
        "id": "885925b3"
      },
      "outputs": [],
      "source": [
        "ps=PorterStemmer()\n",
        "corpus_train=[]\n",
        "for i in range(len(messages)):\n",
        "    review=re.sub('[^a-zA-Z]',' ',messages['title'][i])\n",
        "    review=review.lower()\n",
        "    review=review.split()\n",
        "    review=[ps.stem(word) for word in review if word not in stopwords.words('english')]\n",
        "    review=' '.join(review)\n",
        "    corpus_train.append(review)"
      ]
    },
    {
      "cell_type": "code",
      "execution_count": null,
      "id": "304cb0f8",
      "metadata": {
        "execution": {
          "iopub.execute_input": "2021-12-12T14:16:40.817342Z",
          "iopub.status.busy": "2021-12-12T14:16:40.816185Z",
          "iopub.status.idle": "2021-12-12T14:16:40.820735Z",
          "shell.execute_reply": "2021-12-12T14:16:40.820024Z",
          "shell.execute_reply.started": "2021-12-12T14:06:20.427139Z"
        },
        "papermill": {
          "duration": 0.04236,
          "end_time": "2021-12-12T14:16:40.820893",
          "exception": false,
          "start_time": "2021-12-12T14:16:40.778533",
          "status": "completed"
        },
        "tags": [],
        "id": "304cb0f8",
        "outputId": "e213ee8e-01d3-4101-c051-2f375cb9d78a"
      },
      "outputs": [
        {
          "data": {
            "text/plain": [
              "['hous dem aid even see comey letter jason chaffetz tweet',\n",
              " 'flynn hillari clinton big woman campu breitbart',\n",
              " 'truth might get fire',\n",
              " 'civilian kill singl us airstrik identifi',\n",
              " 'iranian woman jail fiction unpublish stori woman stone death adulteri',\n",
              " 'jacki mason hollywood would love trump bomb north korea lack tran bathroom exclus video breitbart',\n",
              " 'beno hamon win french socialist parti presidenti nomin new york time',\n",
              " 'back channel plan ukrain russia courtesi trump associ new york time',\n",
              " 'obama organ action partner soro link indivis disrupt trump agenda',\n",
              " 'bbc comedi sketch real housew isi caus outrag']"
            ]
          },
          "execution_count": 14,
          "metadata": {},
          "output_type": "execute_result"
        }
      ],
      "source": [
        "corpus_train[0:10]"
      ]
    },
    {
      "cell_type": "code",
      "execution_count": null,
      "id": "5e2dfcf5",
      "metadata": {
        "execution": {
          "iopub.execute_input": "2021-12-12T14:16:40.894050Z",
          "iopub.status.busy": "2021-12-12T14:16:40.893091Z",
          "iopub.status.idle": "2021-12-12T14:16:40.896498Z",
          "shell.execute_reply": "2021-12-12T14:16:40.897038Z",
          "shell.execute_reply.started": "2021-12-12T14:06:34.311495Z"
        },
        "papermill": {
          "duration": 0.042708,
          "end_time": "2021-12-12T14:16:40.897224",
          "exception": false,
          "start_time": "2021-12-12T14:16:40.854516",
          "status": "completed"
        },
        "tags": [],
        "id": "5e2dfcf5",
        "outputId": "35c92ee1-6a4d-4dfe-e4f2-ab736cb8ef6c"
      },
      "outputs": [
        {
          "data": {
            "text/plain": [
              "0    House Dem Aide: We Didn’t Even See Comey’s Let...\n",
              "1    FLYNN: Hillary Clinton, Big Woman on Campus - ...\n",
              "2                    Why the Truth Might Get You Fired\n",
              "3    15 Civilians Killed In Single US Airstrike Hav...\n",
              "4    Iranian woman jailed for fictional unpublished...\n",
              "5    Jackie Mason: Hollywood Would Love Trump if He...\n",
              "6    Benoît Hamon Wins French Socialist Party’s Pre...\n",
              "7    A Back-Channel Plan for Ukraine and Russia, Co...\n",
              "8    Obama’s Organizing for Action Partners with So...\n",
              "9    BBC Comedy Sketch \"Real Housewives of ISIS\" Ca...\n",
              "Name: title, dtype: object"
            ]
          },
          "execution_count": 15,
          "metadata": {},
          "output_type": "execute_result"
        }
      ],
      "source": [
        "messages['title'][0:10]"
      ]
    },
    {
      "cell_type": "code",
      "execution_count": null,
      "id": "b6575267",
      "metadata": {
        "execution": {
          "iopub.execute_input": "2021-12-12T14:16:40.973794Z",
          "iopub.status.busy": "2021-12-12T14:16:40.973115Z",
          "iopub.status.idle": "2021-12-12T14:16:41.222912Z",
          "shell.execute_reply": "2021-12-12T14:16:41.223491Z",
          "shell.execute_reply.started": "2021-12-12T14:06:52.870001Z"
        },
        "papermill": {
          "duration": 0.293863,
          "end_time": "2021-12-12T14:16:41.223699",
          "exception": false,
          "start_time": "2021-12-12T14:16:40.929836",
          "status": "completed"
        },
        "tags": [],
        "id": "b6575267",
        "outputId": "1b879283-1a1e-4ffc-8f6a-240c62630451"
      },
      "outputs": [
        {
          "data": {
            "text/plain": [
              "[2375, 743, 2705, 3223, 813, 1329, 3176, 895, 3773, 933]"
            ]
          },
          "execution_count": 16,
          "metadata": {},
          "output_type": "execute_result"
        }
      ],
      "source": [
        "one_hot_rep=[one_hot(words,vocab_size) for words in corpus_train]\n",
        "one_hot_rep[0]"
      ]
    },
    {
      "cell_type": "code",
      "execution_count": null,
      "id": "aa4a2c56",
      "metadata": {
        "execution": {
          "iopub.execute_input": "2021-12-12T14:16:41.293590Z",
          "iopub.status.busy": "2021-12-12T14:16:41.292910Z",
          "iopub.status.idle": "2021-12-12T14:16:41.428614Z",
          "shell.execute_reply": "2021-12-12T14:16:41.428055Z",
          "shell.execute_reply.started": "2021-12-12T14:07:17.495037Z"
        },
        "papermill": {
          "duration": 0.171776,
          "end_time": "2021-12-12T14:16:41.428786",
          "exception": false,
          "start_time": "2021-12-12T14:16:41.257010",
          "status": "completed"
        },
        "tags": [],
        "id": "aa4a2c56",
        "outputId": "a4009fa0-11eb-4aa2-9fa2-559d2aac4f9e"
      },
      "outputs": [
        {
          "data": {
            "text/plain": [
              "array([   0,    0,    0,    0,    0,    0,    0,    0,    0,    0, 2375,\n",
              "        743, 2705, 3223,  813, 1329, 3176,  895, 3773,  933], dtype=int32)"
            ]
          },
          "execution_count": 17,
          "metadata": {},
          "output_type": "execute_result"
        }
      ],
      "source": [
        "sent_length=20\n",
        "embedded_docs=pad_sequences(one_hot_rep,padding='pre',maxlen=sent_length)\n",
        "embedded_docs[0]"
      ]
    },
    {
      "cell_type": "code",
      "execution_count": null,
      "id": "c13211f8",
      "metadata": {
        "execution": {
          "iopub.execute_input": "2021-12-12T14:16:41.499632Z",
          "iopub.status.busy": "2021-12-12T14:16:41.498941Z",
          "iopub.status.idle": "2021-12-12T14:16:42.170702Z",
          "shell.execute_reply": "2021-12-12T14:16:42.170040Z",
          "shell.execute_reply.started": "2021-12-12T14:07:36.238118Z"
        },
        "papermill": {
          "duration": 0.707758,
          "end_time": "2021-12-12T14:16:42.170858",
          "exception": false,
          "start_time": "2021-12-12T14:16:41.463100",
          "status": "completed"
        },
        "tags": [],
        "id": "c13211f8",
        "outputId": "198b8b20-ee35-4e79-c525-870ee7e92a25"
      },
      "outputs": [
        {
          "name": "stderr",
          "output_type": "stream",
          "text": [
            "\n",
            "User settings:\n",
            "\n",
            "   KMP_AFFINITY=granularity=fine,verbose,compact,1,0\n",
            "   KMP_BLOCKTIME=0\n",
            "   KMP_DUPLICATE_LIB_OK=True\n",
            "   KMP_INIT_AT_FORK=FALSE\n",
            "   KMP_SETTINGS=1\n",
            "   KMP_WARNINGS=0\n",
            "\n",
            "Effective settings:\n",
            "\n",
            "   KMP_ABORT_DELAY=0\n",
            "   KMP_ADAPTIVE_LOCK_PROPS='1,1024'\n",
            "   KMP_ALIGN_ALLOC=64\n",
            "   KMP_ALL_THREADPRIVATE=128\n",
            "   KMP_ATOMIC_MODE=2\n",
            "   KMP_BLOCKTIME=0\n",
            "   KMP_CPUINFO_FILE: value is not defined\n",
            "   KMP_DETERMINISTIC_REDUCTION=false\n",
            "   KMP_DEVICE_THREAD_LIMIT=2147483647\n",
            "   KMP_DISP_NUM_BUFFERS=7\n",
            "   KMP_DUPLICATE_LIB_OK=true\n",
            "   KMP_ENABLE_TASK_THROTTLING=true\n",
            "   KMP_FORCE_REDUCTION: value is not defined\n",
            "   KMP_FOREIGN_THREADS_THREADPRIVATE=true\n",
            "   KMP_FORKJOIN_BARRIER='2,2'\n",
            "   KMP_FORKJOIN_BARRIER_PATTERN='hyper,hyper'\n",
            "   KMP_GTID_MODE=3\n",
            "   KMP_HANDLE_SIGNALS=false\n",
            "   KMP_HOT_TEAMS_MAX_LEVEL=1\n",
            "   KMP_HOT_TEAMS_MODE=0\n",
            "   KMP_INIT_AT_FORK=true\n",
            "   KMP_LIBRARY=throughput\n",
            "   KMP_LOCK_KIND=queuing\n",
            "   KMP_MALLOC_POOL_INCR=1M\n",
            "   KMP_NUM_LOCKS_IN_BLOCK=1\n",
            "   KMP_PLAIN_BARRIER='2,2'\n",
            "   KMP_PLAIN_BARRIER_PATTERN='hyper,hyper'\n",
            "   KMP_REDUCTION_BARRIER='1,1'\n",
            "   KMP_REDUCTION_BARRIER_PATTERN='hyper,hyper'\n",
            "   KMP_SCHEDULE='static,balanced;guided,iterative'\n",
            "   KMP_SETTINGS=true\n",
            "   KMP_SPIN_BACKOFF_PARAMS='4096,100'\n",
            "   KMP_STACKOFFSET=64\n",
            "   KMP_STACKPAD=0\n",
            "   KMP_STACKSIZE=8M\n",
            "   KMP_STORAGE_MAP=false\n",
            "   KMP_TASKING=2\n",
            "   KMP_TASKLOOP_MIN_TASKS=0\n",
            "   KMP_TASK_STEALING_CONSTRAINT=1\n",
            "   KMP_TEAMS_THREAD_LIMIT=4\n",
            "   KMP_TOPOLOGY_METHOD=all\n",
            "   KMP_USE_YIELD=1\n",
            "   KMP_VERSION=false\n",
            "   KMP_WARNINGS=false\n",
            "   OMP_AFFINITY_FORMAT='OMP: pid %P tid %i thread %n bound to OS proc set {%A}'\n",
            "   OMP_ALLOCATOR=omp_default_mem_alloc\n",
            "   OMP_CANCELLATION=false\n",
            "   OMP_DEFAULT_DEVICE=0\n",
            "   OMP_DISPLAY_AFFINITY=false\n",
            "   OMP_DISPLAY_ENV=false\n",
            "   OMP_DYNAMIC=false\n",
            "   OMP_MAX_ACTIVE_LEVELS=1\n",
            "   OMP_MAX_TASK_PRIORITY=0\n",
            "   OMP_NESTED: deprecated; max-active-levels-var=1\n",
            "   OMP_NUM_THREADS: value is not defined\n",
            "   OMP_PLACES: value is not defined\n",
            "   OMP_PROC_BIND='intel'\n",
            "   OMP_SCHEDULE='static'\n",
            "   OMP_STACKSIZE=8M\n",
            "   OMP_TARGET_OFFLOAD=DEFAULT\n",
            "   OMP_THREAD_LIMIT=2147483647\n",
            "   OMP_WAIT_POLICY=PASSIVE\n",
            "   KMP_AFFINITY='verbose,warnings,respect,granularity=fine,compact,1,0'\n",
            "\n",
            "2021-12-12 14:16:41.534493: I tensorflow/core/common_runtime/process_util.cc:146] Creating new thread pool with default inter op setting: 2. Tune using inter_op_parallelism_threads for best performance.\n"
          ]
        },
        {
          "name": "stdout",
          "output_type": "stream",
          "text": [
            "Model: \"sequential\"\n",
            "_________________________________________________________________\n",
            "Layer (type)                 Output Shape              Param #   \n",
            "=================================================================\n",
            "embedding (Embedding)        (None, 20, 40)            200000    \n",
            "_________________________________________________________________\n",
            "lstm (LSTM)                  (None, 100)               56400     \n",
            "_________________________________________________________________\n",
            "dense (Dense)                (None, 1)                 101       \n",
            "=================================================================\n",
            "Total params: 256,501\n",
            "Trainable params: 256,501\n",
            "Non-trainable params: 0\n",
            "_________________________________________________________________\n"
          ]
        }
      ],
      "source": [
        "embedded_features=40\n",
        "model=Sequential()\n",
        "model.add(Embedding(vocab_size,embedded_features,input_length=sent_length))\n",
        "model.add(LSTM(100))\n",
        "model.add(Dense(1,activation='sigmoid'))\n",
        "model.summary()\n",
        "model.compile(loss='binary_crossentropy',optimizer='adam',metrics=['accuracy'])"
      ]
    },
    {
      "cell_type": "code",
      "execution_count": null,
      "id": "0978cec4",
      "metadata": {
        "execution": {
          "iopub.execute_input": "2021-12-12T14:16:42.246553Z",
          "iopub.status.busy": "2021-12-12T14:16:42.245509Z",
          "iopub.status.idle": "2021-12-12T14:16:42.248177Z",
          "shell.execute_reply": "2021-12-12T14:16:42.248824Z",
          "shell.execute_reply.started": "2021-12-12T14:07:58.771249Z"
        },
        "papermill": {
          "duration": 0.04294,
          "end_time": "2021-12-12T14:16:42.248999",
          "exception": false,
          "start_time": "2021-12-12T14:16:42.206059",
          "status": "completed"
        },
        "tags": [],
        "id": "0978cec4"
      },
      "outputs": [],
      "source": [
        "X_final=np.asarray(embedded_docs)\n",
        "y_final=np.asarray(y)"
      ]
    },
    {
      "cell_type": "code",
      "execution_count": null,
      "id": "15105f48",
      "metadata": {
        "execution": {
          "iopub.execute_input": "2021-12-12T14:16:42.322043Z",
          "iopub.status.busy": "2021-12-12T14:16:42.320625Z",
          "iopub.status.idle": "2021-12-12T14:16:42.333066Z",
          "shell.execute_reply": "2021-12-12T14:16:42.334056Z",
          "shell.execute_reply.started": "2021-12-12T14:08:10.938350Z"
        },
        "papermill": {
          "duration": 0.051812,
          "end_time": "2021-12-12T14:16:42.334319",
          "exception": false,
          "start_time": "2021-12-12T14:16:42.282507",
          "status": "completed"
        },
        "tags": [],
        "id": "15105f48",
        "outputId": "68c4d47f-7aa5-42ba-af35-b31f04a6be57"
      },
      "outputs": [
        {
          "name": "stdout",
          "output_type": "stream",
          "text": [
            "(13713, 20) (13713,)\n",
            "(4572, 20) (4572,)\n"
          ]
        }
      ],
      "source": [
        "from sklearn.model_selection import train_test_split\n",
        "X_train,X_test,y_train,y_test=train_test_split(X_final,y_final,random_state=42)\n",
        "print(X_train.shape,y_train.shape)\n",
        "print(X_test.shape,y_test.shape)"
      ]
    },
    {
      "cell_type": "code",
      "execution_count": null,
      "id": "7e7a5a81",
      "metadata": {
        "execution": {
          "iopub.execute_input": "2021-12-12T14:16:42.411000Z",
          "iopub.status.busy": "2021-12-12T14:16:42.408615Z",
          "iopub.status.idle": "2021-12-12T14:18:39.833365Z",
          "shell.execute_reply": "2021-12-12T14:18:39.832629Z",
          "shell.execute_reply.started": "2021-12-12T14:08:30.812676Z"
        },
        "papermill": {
          "duration": 117.4632,
          "end_time": "2021-12-12T14:18:39.833530",
          "exception": false,
          "start_time": "2021-12-12T14:16:42.370330",
          "status": "completed"
        },
        "tags": [],
        "id": "7e7a5a81",
        "outputId": "bb25e45c-2976-4af3-a12a-7476e7690686"
      },
      "outputs": [
        {
          "name": "stderr",
          "output_type": "stream",
          "text": [
            "2021-12-12 14:16:42.471139: I tensorflow/compiler/mlir/mlir_graph_optimization_pass.cc:185] None of the MLIR Optimization Passes are enabled (registered 2)\n"
          ]
        },
        {
          "name": "stdout",
          "output_type": "stream",
          "text": [
            "Epoch 1/10\n",
            "429/429 [==============================] - 15s 30ms/step - loss: 0.2645 - accuracy: 0.8818 - val_loss: 0.1983 - val_accuracy: 0.9114\n",
            "Epoch 2/10\n",
            "429/429 [==============================] - 11s 26ms/step - loss: 0.1349 - accuracy: 0.9472 - val_loss: 0.2204 - val_accuracy: 0.9127\n",
            "Epoch 3/10\n",
            "429/429 [==============================] - 12s 27ms/step - loss: 0.1002 - accuracy: 0.9632 - val_loss: 0.2392 - val_accuracy: 0.9114\n",
            "Epoch 4/10\n",
            "429/429 [==============================] - 11s 26ms/step - loss: 0.0722 - accuracy: 0.9753 - val_loss: 0.2755 - val_accuracy: 0.9121\n",
            "Epoch 5/10\n",
            "429/429 [==============================] - 11s 26ms/step - loss: 0.0501 - accuracy: 0.9837 - val_loss: 0.3055 - val_accuracy: 0.9112\n",
            "Epoch 6/10\n",
            "429/429 [==============================] - 12s 28ms/step - loss: 0.0351 - accuracy: 0.9894 - val_loss: 0.3673 - val_accuracy: 0.9051\n",
            "Epoch 7/10\n",
            "429/429 [==============================] - 11s 26ms/step - loss: 0.0214 - accuracy: 0.9936 - val_loss: 0.3651 - val_accuracy: 0.9094\n",
            "Epoch 8/10\n",
            "429/429 [==============================] - 11s 26ms/step - loss: 0.0158 - accuracy: 0.9956 - val_loss: 0.4014 - val_accuracy: 0.9068\n",
            "Epoch 9/10\n",
            "429/429 [==============================] - 12s 27ms/step - loss: 0.0091 - accuracy: 0.9974 - val_loss: 0.4616 - val_accuracy: 0.9097\n",
            "Epoch 10/10\n",
            "429/429 [==============================] - 11s 26ms/step - loss: 0.0081 - accuracy: 0.9977 - val_loss: 0.5599 - val_accuracy: 0.9086\n"
          ]
        }
      ],
      "source": [
        "train_model=model.fit(X_train,y_train,validation_data=(X_test,y_test),epochs=10)"
      ]
    },
    {
      "cell_type": "code",
      "execution_count": null,
      "id": "fbf6b040",
      "metadata": {
        "execution": {
          "iopub.execute_input": "2021-12-12T14:18:40.994483Z",
          "iopub.status.busy": "2021-12-12T14:18:40.993360Z",
          "iopub.status.idle": "2021-12-12T14:18:40.996746Z",
          "shell.execute_reply": "2021-12-12T14:18:40.996031Z",
          "shell.execute_reply.started": "2021-12-12T14:10:56.224060Z"
        },
        "papermill": {
          "duration": 0.600581,
          "end_time": "2021-12-12T14:18:40.996892",
          "exception": false,
          "start_time": "2021-12-12T14:18:40.396311",
          "status": "completed"
        },
        "tags": [],
        "id": "fbf6b040"
      },
      "outputs": [],
      "source": [
        "import matplotlib.pyplot as plt"
      ]
    },
    {
      "cell_type": "code",
      "execution_count": null,
      "id": "5b82cc65",
      "metadata": {
        "execution": {
          "iopub.execute_input": "2021-12-12T14:18:42.244115Z",
          "iopub.status.busy": "2021-12-12T14:18:42.242879Z",
          "iopub.status.idle": "2021-12-12T14:18:42.527976Z",
          "shell.execute_reply": "2021-12-12T14:18:42.528568Z",
          "shell.execute_reply.started": "2021-12-12T14:11:22.098128Z"
        },
        "papermill": {
          "duration": 0.893467,
          "end_time": "2021-12-12T14:18:42.528797",
          "exception": false,
          "start_time": "2021-12-12T14:18:41.635330",
          "status": "completed"
        },
        "tags": [],
        "id": "5b82cc65",
        "outputId": "c7118101-246d-4d32-dae4-409fe16e2a69"
      },
      "outputs": [
        {
          "data": {
            "text/plain": [
              "<matplotlib.legend.Legend at 0x7f5bfb7e2790>"
            ]
          },
          "execution_count": 23,
          "metadata": {},
          "output_type": "execute_result"
        },
        {
          "data": {
            "image/png": "[encoded data removed]",
            "text/plain": [
              "<Figure size 432x288 with 1 Axes>"
            ]
          },
          "metadata": {
            "needs_background": "light"
          },
          "output_type": "display_data"
        }
      ],
      "source": [
        "plt.plot(train_model.history['accuracy'],'b',label='train_accuracy')\n",
        "plt.plot(train_model.history['val_accuracy'],'r',label='val_accuracy')\n",
        "plt.legend()"
      ]
    },
    {
      "cell_type": "code",
      "execution_count": null,
      "id": "b5f8d9eb",
      "metadata": {
        "execution": {
          "iopub.execute_input": "2021-12-12T14:18:43.707873Z",
          "iopub.status.busy": "2021-12-12T14:18:43.707125Z",
          "iopub.status.idle": "2021-12-12T14:18:43.709937Z",
          "shell.execute_reply": "2021-12-12T14:18:43.710457Z",
          "shell.execute_reply.started": "2021-12-12T14:11:56.820264Z"
        },
        "papermill": {
          "duration": 0.606912,
          "end_time": "2021-12-12T14:18:43.710646",
          "exception": false,
          "start_time": "2021-12-12T14:18:43.103734",
          "status": "completed"
        },
        "tags": [],
        "id": "b5f8d9eb"
      },
      "outputs": [],
      "source": [
        "def test(X):\n",
        "    X=X.fillna(0)\n",
        "    messages=X.copy()\n",
        "    messages.reset_index(inplace=True)\n",
        "    corpus=[]\n",
        "    for i in range(len(messages)):\n",
        "        reviews=re.sub('[^a-zA-Z]',' ',str(messages['title'][i]))\n",
        "        reviews=reviews.lower()\n",
        "        reviews=reviews.split()\n",
        "        reviews=[ps.stem(word) for word in reviews if word not in stopwords.words('english')]\n",
        "        reviews=' '.join(reviews)\n",
        "        corpus.append(reviews)\n",
        "    one_hot_rep=[one_hot(word,vocab_size)for word in corpus]\n",
        "    embedded_docs = pad_sequences(one_hot_rep, padding = 'pre', maxlen = sent_length)\n",
        "    X_final = np.array(embedded_docs)\n",
        "    \n",
        "    \n",
        "    return X_final"
      ]
    },
    {
      "cell_type": "code",
      "execution_count": null,
      "id": "f66a8faf",
      "metadata": {
        "execution": {
          "iopub.execute_input": "2021-12-12T14:18:44.836808Z",
          "iopub.status.busy": "2021-12-12T14:18:44.836105Z",
          "iopub.status.idle": "2021-12-12T14:18:56.944890Z",
          "shell.execute_reply": "2021-12-12T14:18:56.944306Z",
          "shell.execute_reply.started": "2021-12-12T14:12:14.300673Z"
        },
        "papermill": {
          "duration": 12.678948,
          "end_time": "2021-12-12T14:18:56.945044",
          "exception": false,
          "start_time": "2021-12-12T14:18:44.266096",
          "status": "completed"
        },
        "tags": [],
        "id": "f66a8faf",
        "outputId": "78bbf89d-7df7-4811-9d0c-95b1d113fa06"
      },
      "outputs": [
        {
          "data": {
            "text/plain": [
              "array([   0,    0,    0,    0,    0,    0,    0,    0,    0, 4848,  631,\n",
              "       4560, 2384,  194, 4502, 3456, 4161, 1428, 2773,  114], dtype=int32)"
            ]
          },
          "execution_count": 25,
          "metadata": {},
          "output_type": "execute_result"
        }
      ],
      "source": [
        "test_data_new= test(test_data)\n",
        "test_data_new[0]"
      ]
    },
    {
      "cell_type": "code",
      "execution_count": null,
      "id": "2b09f9da",
      "metadata": {
        "execution": {
          "iopub.execute_input": "2021-12-12T14:18:58.084059Z",
          "iopub.status.busy": "2021-12-12T14:18:58.083027Z",
          "iopub.status.idle": "2021-12-12T14:18:59.586663Z",
          "shell.execute_reply": "2021-12-12T14:18:59.585189Z",
          "shell.execute_reply.started": "2021-12-12T14:12:46.778871Z"
        },
        "papermill": {
          "duration": 2.075417,
          "end_time": "2021-12-12T14:18:59.587025",
          "exception": false,
          "start_time": "2021-12-12T14:18:57.511608",
          "status": "completed"
        },
        "tags": [],
        "id": "2b09f9da",
        "outputId": "2b633681-a2d0-4237-a9e9-1c0d3a4917bc"
      },
      "outputs": [
        {
          "name": "stdout",
          "output_type": "stream",
          "text": [
            "(5200, 1)\n"
          ]
        }
      ],
      "source": [
        "pred=model.predict(test_data_new)\n",
        "print(pred.shape)"
      ]
    },
    {
      "cell_type": "code",
      "execution_count": null,
      "id": "51822531",
      "metadata": {
        "execution": {
          "iopub.execute_input": "2021-12-12T14:19:00.738818Z",
          "iopub.status.busy": "2021-12-12T14:19:00.738152Z",
          "iopub.status.idle": "2021-12-12T14:19:00.751438Z",
          "shell.execute_reply": "2021-12-12T14:19:00.751998Z",
          "shell.execute_reply.started": "2021-12-12T14:13:04.541352Z"
        },
        "papermill": {
          "duration": 0.58621,
          "end_time": "2021-12-12T14:19:00.752190",
          "exception": false,
          "start_time": "2021-12-12T14:19:00.165980",
          "status": "completed"
        },
        "tags": [],
        "id": "51822531"
      },
      "outputs": [],
      "source": [
        "submission_data = pd.read_csv('/kaggle/input/fake-news/submit.csv')"
      ]
    },
    {
      "cell_type": "code",
      "execution_count": null,
      "id": "ab3f454a",
      "metadata": {
        "execution": {
          "iopub.execute_input": "2021-12-12T14:19:01.872709Z",
          "iopub.status.busy": "2021-12-12T14:19:01.871645Z",
          "iopub.status.idle": "2021-12-12T14:19:01.876534Z",
          "shell.execute_reply": "2021-12-12T14:19:01.877175Z",
          "shell.execute_reply.started": "2021-12-12T14:13:35.675065Z"
        },
        "papermill": {
          "duration": 0.568398,
          "end_time": "2021-12-12T14:19:01.877346",
          "exception": false,
          "start_time": "2021-12-12T14:19:01.308948",
          "status": "completed"
        },
        "tags": [],
        "id": "ab3f454a"
      },
      "outputs": [],
      "source": [
        "submission_data['label']=np.round(pred).astype('int')"
      ]
    },
    {
      "cell_type": "code",
      "execution_count": null,
      "id": "002d7081",
      "metadata": {
        "execution": {
          "iopub.execute_input": "2021-12-12T14:19:03.014414Z",
          "iopub.status.busy": "2021-12-12T14:19:03.013382Z",
          "iopub.status.idle": "2021-12-12T14:19:03.022041Z",
          "shell.execute_reply": "2021-12-12T14:19:03.022676Z",
          "shell.execute_reply.started": "2021-12-12T14:13:47.052041Z"
        },
        "papermill": {
          "duration": 0.570313,
          "end_time": "2021-12-12T14:19:03.022872",
          "exception": false,
          "start_time": "2021-12-12T14:19:02.452559",
          "status": "completed"
        },
        "tags": [],
        "id": "002d7081",
        "outputId": "3803ece3-c21a-493b-b74a-2e8965b53579"
      },
      "outputs": [
        {
          "data": {
            "text/html": [
              "<div>\n",
              "<style scoped>\n",
              "    .dataframe tbody tr th:only-of-type {\n",
              "        vertical-align: middle;\n",
              "    }\n",
              "\n",
              "    .dataframe tbody tr th {\n",
              "        vertical-align: top;\n",
              "    }\n",
              "\n",
              "    .dataframe thead th {\n",
              "        text-align: right;\n",
              "    }\n",
              "</style>\n",
              "<table border=\"1\" class=\"dataframe\">\n",
              "  <thead>\n",
              "    <tr style=\"text-align: right;\">\n",
              "      <th></th>\n",
              "      <th>id</th>\n",
              "      <th>label</th>\n",
              "    </tr>\n",
              "  </thead>\n",
              "  <tbody>\n",
              "    <tr>\n",
              "      <th>0</th>\n",
              "      <td>20800</td>\n",
              "      <td>0</td>\n",
              "    </tr>\n",
              "    <tr>\n",
              "      <th>1</th>\n",
              "      <td>20801</td>\n",
              "      <td>1</td>\n",
              "    </tr>\n",
              "    <tr>\n",
              "      <th>2</th>\n",
              "      <td>20802</td>\n",
              "      <td>1</td>\n",
              "    </tr>\n",
              "    <tr>\n",
              "      <th>3</th>\n",
              "      <td>20803</td>\n",
              "      <td>0</td>\n",
              "    </tr>\n",
              "    <tr>\n",
              "      <th>4</th>\n",
              "      <td>20804</td>\n",
              "      <td>1</td>\n",
              "    </tr>\n",
              "  </tbody>\n",
              "</table>\n",
              "</div>"
            ],
            "text/plain": [
              "      id  label\n",
              "0  20800      0\n",
              "1  20801      1\n",
              "2  20802      1\n",
              "3  20803      0\n",
              "4  20804      1"
            ]
          },
          "execution_count": 29,
          "metadata": {},
          "output_type": "execute_result"
        }
      ],
      "source": [
        "submission_data.head()"
      ]
    },
    {
      "cell_type": "code",
      "execution_count": null,
      "id": "d0d680c9",
      "metadata": {
        "execution": {
          "iopub.execute_input": "2021-12-12T14:19:04.201070Z",
          "iopub.status.busy": "2021-12-12T14:19:04.200002Z",
          "iopub.status.idle": "2021-12-12T14:19:04.217131Z",
          "shell.execute_reply": "2021-12-12T14:19:04.217730Z",
          "shell.execute_reply.started": "2021-12-12T14:14:14.842368Z"
        },
        "papermill": {
          "duration": 0.587934,
          "end_time": "2021-12-12T14:19:04.217939",
          "exception": false,
          "start_time": "2021-12-12T14:19:03.630005",
          "status": "completed"
        },
        "tags": [],
        "id": "d0d680c9"
      },
      "outputs": [],
      "source": [
        "submission_data.to_csv('Submission.csv',index=False)"
      ]
    },
    {
      "cell_type": "code",
      "execution_count": null,
      "id": "9b567be7",
      "metadata": {
        "execution": {
          "iopub.execute_input": "2021-12-12T14:19:05.367417Z",
          "iopub.status.busy": "2021-12-12T14:19:05.366348Z",
          "iopub.status.idle": "2021-12-12T14:19:05.373428Z",
          "shell.execute_reply": "2021-12-12T14:19:05.374026Z",
          "shell.execute_reply.started": "2021-12-12T14:14:31.308966Z"
        },
        "papermill": {
          "duration": 0.585172,
          "end_time": "2021-12-12T14:19:05.374202",
          "exception": false,
          "start_time": "2021-12-12T14:19:04.789030",
          "status": "completed"
        },
        "tags": [],
        "id": "9b567be7",
        "outputId": "93489809-871b-4640-ca86-826aa57c1d29"
      },
      "outputs": [
        {
          "data": {
            "text/html": [
              "<div>\n",
              "<style scoped>\n",
              "    .dataframe tbody tr th:only-of-type {\n",
              "        vertical-align: middle;\n",
              "    }\n",
              "\n",
              "    .dataframe tbody tr th {\n",
              "        vertical-align: top;\n",
              "    }\n",
              "\n",
              "    .dataframe thead th {\n",
              "        text-align: right;\n",
              "    }\n",
              "</style>\n",
              "<table border=\"1\" class=\"dataframe\">\n",
              "  <thead>\n",
              "    <tr style=\"text-align: right;\">\n",
              "      <th></th>\n",
              "      <th>title</th>\n",
              "      <th>label</th>\n",
              "    </tr>\n",
              "  </thead>\n",
              "  <tbody>\n",
              "    <tr>\n",
              "      <th>0</th>\n",
              "      <td>Specter of Trump Loosens Tongues, if Not Purse...</td>\n",
              "      <td>0</td>\n",
              "    </tr>\n",
              "    <tr>\n",
              "      <th>1</th>\n",
              "      <td>Russian warships ready to strike terrorists ne...</td>\n",
              "      <td>1</td>\n",
              "    </tr>\n",
              "    <tr>\n",
              "      <th>2</th>\n",
              "      <td>#NoDAPL: Native American Leaders Vow to Stay A...</td>\n",
              "      <td>1</td>\n",
              "    </tr>\n",
              "    <tr>\n",
              "      <th>3</th>\n",
              "      <td>Tim Tebow Will Attempt Another Comeback, This ...</td>\n",
              "      <td>0</td>\n",
              "    </tr>\n",
              "    <tr>\n",
              "      <th>4</th>\n",
              "      <td>Keiser Report: Meme Wars (E995)</td>\n",
              "      <td>1</td>\n",
              "    </tr>\n",
              "  </tbody>\n",
              "</table>\n",
              "</div>"
            ],
            "text/plain": [
              "                                               title  label\n",
              "0  Specter of Trump Loosens Tongues, if Not Purse...      0\n",
              "1  Russian warships ready to strike terrorists ne...      1\n",
              "2  #NoDAPL: Native American Leaders Vow to Stay A...      1\n",
              "3  Tim Tebow Will Attempt Another Comeback, This ...      0\n",
              "4                    Keiser Report: Meme Wars (E995)      1"
            ]
          },
          "execution_count": 31,
          "metadata": {},
          "output_type": "execute_result"
        }
      ],
      "source": [
        "output=pd.DataFrame(data=test_data['title'])\n",
        "output['label']=submission_data['label']\n",
        "output.head()"
      ]
    },
    {
      "cell_type": "code",
      "execution_count": null,
      "id": "84977e18",
      "metadata": {
        "execution": {
          "iopub.execute_input": "2021-12-12T14:19:06.562307Z",
          "iopub.status.busy": "2021-12-12T14:19:06.561285Z",
          "iopub.status.idle": "2021-12-12T14:19:06.592535Z",
          "shell.execute_reply": "2021-12-12T14:19:06.593142Z",
          "shell.execute_reply.started": "2021-12-12T14:14:53.196366Z"
        },
        "papermill": {
          "duration": 0.601269,
          "end_time": "2021-12-12T14:19:06.593335",
          "exception": false,
          "start_time": "2021-12-12T14:19:05.992066",
          "status": "completed"
        },
        "tags": [],
        "id": "84977e18"
      },
      "outputs": [],
      "source": [
        "output.to_csv('Output.csv')"
      ]
    }
  ],
  "metadata": {
    "kernelspec": {
      "display_name": "Python 3",
      "language": "python",
      "name": "python3"
    },
    "language_info": {
      "codemirror_mode": {
        "name": "ipython",
        "version": 3
      },
      "file_extension": ".py",
      "mimetype": "text/x-python",
      "name": "python",
      "nbconvert_exporter": "python",
      "pygments_lexer": "ipython3",
      "version": "3.7.12"
    },
    "papermill": {
      "default_parameters": {},
      "duration": 214.901469,
      "end_time": "2021-12-12T14:19:10.116061",
      "environment_variables": {},
      "exception": null,
      "input_path": "__notebook__.ipynb",
      "output_path": "__notebook__.ipynb",
      "parameters": {},
      "start_time": "2021-12-12T14:15:35.214592",
      "version": "2.3.3"
    },
    "colab": {
      "name": "fake-news-lstm.ipynb",
      "provenance": [],
      "include_colab_link": true
    }
  },
  "nbformat": 4,
  "nbformat_minor": 5
}